{
 "cells": [
  {
   "cell_type": "markdown",
   "metadata": {},
   "source": [
    "### Credit: Inventive Arya,\n",
    "#### Email : inventivearya@gmail.com,\n",
    "#### Youtube: Inventivearya"
   ]
  },
  {
   "cell_type": "markdown",
   "metadata": {},
   "source": [
    "# What is Palindrome?"
   ]
  },
  {
   "cell_type": "markdown",
   "metadata": {},
   "source": [
    "A palindrome is a word, phrase, or sentence reads the same backward or forward such as, \n",
    "Madam,aha,1221 etc"
   ]
  },
  {
   "cell_type": "markdown",
   "metadata": {},
   "source": [
    "### Exercise"
   ]
  },
  {
   "cell_type": "markdown",
   "metadata": {},
   "source": [
    "1. Madam is Palindrome? -> Yes\n",
    "\n",
    "2. 123 is Palindrome?-> No\n",
    "\n",
    "3. 1331 is Palindrome?-> Yes"
   ]
  },
  {
   "cell_type": "markdown",
   "metadata": {},
   "source": [
    "![title](1.PNG)"
   ]
  },
  {
   "cell_type": "markdown",
   "metadata": {},
   "source": [
    "## Palindrome program in C program"
   ]
  },
  {
   "cell_type": "code",
   "execution_count": null,
   "metadata": {},
   "outputs": [],
   "source": [
    "/* Program to calculate whether a given number is palindrome or not */\n",
    "#include<stdio.h>\n",
    "#include<conio.h>\n",
    "int main()\n",
    "{\n",
    "    int temp,rev=0,num,remainder ;\n",
    "    clrscr();\n",
    "    printf(\"Enter the number\\n\");\n",
    "    scanf(\"%d\",&num);\n",
    "    temp=num;\n",
    "    while(num!=0) //Reversing the number\n",
    "    {\n",
    "        remainder = num%10;\n",
    "        num = num/10;\n",
    "        rev = rev*10+ remainder;\n",
    "    }\n",
    "    printf(\"The reverse number is %d\",rev);\n",
    "    if(rev == temp)\n",
    "    printf(\"\\n%d is a palindrome\",temp);\n",
    "    else\n",
    "        printf(\"\\n%d is not a palindrome\", temp);\n",
    "    getch();\n",
    "}\n",
    "\n"
   ]
  },
  {
   "cell_type": "markdown",
   "metadata": {},
   "source": [
    "### EXPECTED OUTPUT:"
   ]
  },
  {
   "cell_type": "code",
   "execution_count": null,
   "metadata": {},
   "outputs": [],
   "source": [
    "1. Enter the number\n",
    "1001\n",
    "The reverse number is 1001\n",
    "1001 is a palindrome\n",
    "2. Enter the number\n",
    "123\n",
    "The reverse number is 123\n",
    "123 is not a palindrome"
   ]
  },
  {
   "cell_type": "markdown",
   "metadata": {},
   "source": [
    "\n",
    "# Palindrome program in Python"
   ]
  },
  {
   "cell_type": "markdown",
   "metadata": {},
   "source": [
    " 1. Take input from user"
   ]
  },
  {
   "cell_type": "code",
   "execution_count": 1,
   "metadata": {},
   "outputs": [
    {
     "name": "stdout",
     "output_type": "stream",
     "text": [
      "Enter Input: drj\n"
     ]
    }
   ],
   "source": [
    "name=input('Enter Input: ')"
   ]
  },
  {
   "cell_type": "markdown",
   "metadata": {},
   "source": [
    "2. Reverse the input"
   ]
  },
  {
   "cell_type": "code",
   "execution_count": 2,
   "metadata": {},
   "outputs": [
    {
     "name": "stdout",
     "output_type": "stream",
     "text": [
      "jrd\n"
     ]
    }
   ],
   "source": [
    "print(name[::-1])"
   ]
  },
  {
   "cell_type": "markdown",
   "metadata": {},
   "source": [
    "3. Compare the input with reversed input"
   ]
  },
  {
   "cell_type": "code",
   "execution_count": 3,
   "metadata": {},
   "outputs": [
    {
     "name": "stdout",
     "output_type": "stream",
     "text": [
      "It is not palindrome\n"
     ]
    }
   ],
   "source": [
    "if name==name[::-1]:\n",
    "    print('It is palindrome ')\n",
    "else:\n",
    "    print('It is not palindrome')"
   ]
  },
  {
   "cell_type": "markdown",
   "metadata": {},
   "source": [
    "# 001_Testing_Code"
   ]
  },
  {
   "cell_type": "code",
   "execution_count": 4,
   "metadata": {},
   "outputs": [
    {
     "name": "stdout",
     "output_type": "stream",
     "text": [
      "Enter Input: 1221\n",
      "It is Palindrome. \n"
     ]
    }
   ],
   "source": [
    "name=input('Enter Input: ')\n",
    "if name==name[::-1]:\n",
    "    print('It is Palindrome. ')\n",
    "else:\n",
    "    print('It is not Palindrome.')"
   ]
  },
  {
   "cell_type": "markdown",
   "metadata": {},
   "source": [
    "# 002_Testing_Code"
   ]
  },
  {
   "cell_type": "code",
   "execution_count": 5,
   "metadata": {},
   "outputs": [
    {
     "name": "stdout",
     "output_type": "stream",
     "text": [
      "Enter Input: arya\n",
      "ayra\n",
      "It is not palindrome\n"
     ]
    }
   ],
   "source": [
    "name=input('Enter Input: ')\n",
    "print(name[::-1])\n",
    "if name==name[::-1]:\n",
    "    print('It is palindrome ')\n",
    "else:\n",
    "    print('It is not palindrome')"
   ]
  },
  {
   "cell_type": "markdown",
   "metadata": {},
   "source": [
    "# 003_Testing_Code"
   ]
  },
  {
   "cell_type": "code",
   "execution_count": 7,
   "metadata": {},
   "outputs": [
    {
     "name": "stdout",
     "output_type": "stream",
     "text": [
      "Enter Input: 123\n",
      "It is not Palindrome. \n"
     ]
    }
   ],
   "source": [
    "name=input('Enter Input: ')\n",
    "if name==name[::-1]:\n",
    "    print('It is Palindrome. ')\n",
    "else:\n",
    "    print('It is not Palindrome. ')"
   ]
  },
  {
   "cell_type": "code",
   "execution_count": null,
   "metadata": {},
   "outputs": [],
   "source": []
  }
 ],
 "metadata": {
  "kernelspec": {
   "display_name": "firstEnv",
   "language": "python",
   "name": "firstenv"
  },
  "language_info": {
   "codemirror_mode": {
    "name": "ipython",
    "version": 3
   },
   "file_extension": ".py",
   "mimetype": "text/x-python",
   "name": "python",
   "nbconvert_exporter": "python",
   "pygments_lexer": "ipython3",
   "version": "3.5.6"
  }
 },
 "nbformat": 4,
 "nbformat_minor": 2
}
